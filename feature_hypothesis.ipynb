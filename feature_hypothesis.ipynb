{
 "cells": [
  {
   "cell_type": "markdown",
   "metadata": {},
   "source": [
    "# _Feature Engineering_"
   ]
  },
  {
   "cell_type": "code",
   "execution_count": 2,
   "metadata": {},
   "outputs": [],
   "source": [
    "import pandas as pd\n",
    "import numpy as np\n",
    "from matplotlib import pyplot as plt \n",
    "from scipy.stats import chi2_contingency\n",
    "import seaborn as sns"
   ]
  },
  {
   "cell_type": "code",
   "execution_count": 3,
   "metadata": {},
   "outputs": [],
   "source": [
    "df=pd.read_csv(r'C:\\Users\\Apeksha\\Documents\\data_proj\\anime_dataset.csv')"
   ]
  },
  {
   "cell_type": "markdown",
   "metadata": {},
   "source": [
    "### This is the original dataset"
   ]
  },
  {
   "cell_type": "code",
   "execution_count": 4,
   "metadata": {},
   "outputs": [
    {
     "data": {
      "text/html": [
       "<div>\n",
       "<style scoped>\n",
       "    .dataframe tbody tr th:only-of-type {\n",
       "        vertical-align: middle;\n",
       "    }\n",
       "\n",
       "    .dataframe tbody tr th {\n",
       "        vertical-align: top;\n",
       "    }\n",
       "\n",
       "    .dataframe thead th {\n",
       "        text-align: right;\n",
       "    }\n",
       "</style>\n",
       "<table border=\"1\" class=\"dataframe\">\n",
       "  <thead>\n",
       "    <tr style=\"text-align: right;\">\n",
       "      <th></th>\n",
       "      <th>Serial No.</th>\n",
       "      <th>Name</th>\n",
       "      <th>Links</th>\n",
       "      <th>Genre and Theme</th>\n",
       "      <th>No. of episodes</th>\n",
       "      <th>Rating</th>\n",
       "    </tr>\n",
       "  </thead>\n",
       "  <tbody>\n",
       "    <tr>\n",
       "      <th>0</th>\n",
       "      <td>1</td>\n",
       "      <td>Fullmetal Alchemist: Brotherhood (TV)</td>\n",
       "      <td>https://www.animenewsnetwork.com//encyclopedia...</td>\n",
       "      <td>adventure,comedy,drama,fantasy,thriller,alchem...</td>\n",
       "      <td>64</td>\n",
       "      <td>9.09</td>\n",
       "    </tr>\n",
       "    <tr>\n",
       "      <th>1</th>\n",
       "      <td>2</td>\n",
       "      <td>Steins;Gate (TV)</td>\n",
       "      <td>https://www.animenewsnetwork.com//encyclopedia...</td>\n",
       "      <td>adventure,comedy,drama,mystery,psychological,r...</td>\n",
       "      <td>24</td>\n",
       "      <td>9.04</td>\n",
       "    </tr>\n",
       "    <tr>\n",
       "      <th>2</th>\n",
       "      <td>3</td>\n",
       "      <td>Clannad After Story (TV)</td>\n",
       "      <td>https://www.animenewsnetwork.com//encyclopedia...</td>\n",
       "      <td>comedy,drama,psychological,romance,supernatura...</td>\n",
       "      <td>25</td>\n",
       "      <td>9.04</td>\n",
       "    </tr>\n",
       "    <tr>\n",
       "      <th>3</th>\n",
       "      <td>4</td>\n",
       "      <td>your name. (movie)</td>\n",
       "      <td>https://www.animenewsnetwork.com//encyclopedia...</td>\n",
       "      <td>comedy,drama,romance,supernatural,amnesia,body...</td>\n",
       "      <td>1</td>\n",
       "      <td>9.02</td>\n",
       "    </tr>\n",
       "    <tr>\n",
       "      <th>4</th>\n",
       "      <td>5</td>\n",
       "      <td>Rurouni Kenshin: Trust &amp;amp; Betrayal (OAV)</td>\n",
       "      <td>https://www.animenewsnetwork.com//encyclopedia...</td>\n",
       "      <td>action,drama,romance,historical,revenge,samura...</td>\n",
       "      <td>4</td>\n",
       "      <td>8.97</td>\n",
       "    </tr>\n",
       "  </tbody>\n",
       "</table>\n",
       "</div>"
      ],
      "text/plain": [
       "   Serial No.                                         Name  \\\n",
       "0           1        Fullmetal Alchemist: Brotherhood (TV)   \n",
       "1           2                             Steins;Gate (TV)   \n",
       "2           3                     Clannad After Story (TV)   \n",
       "3           4                           your name. (movie)   \n",
       "4           5  Rurouni Kenshin: Trust &amp; Betrayal (OAV)   \n",
       "\n",
       "                                               Links  \\\n",
       "0  https://www.animenewsnetwork.com//encyclopedia...   \n",
       "1  https://www.animenewsnetwork.com//encyclopedia...   \n",
       "2  https://www.animenewsnetwork.com//encyclopedia...   \n",
       "3  https://www.animenewsnetwork.com//encyclopedia...   \n",
       "4  https://www.animenewsnetwork.com//encyclopedia...   \n",
       "\n",
       "                                     Genre and Theme  No. of episodes  Rating  \n",
       "0  adventure,comedy,drama,fantasy,thriller,alchem...               64    9.09  \n",
       "1  adventure,comedy,drama,mystery,psychological,r...               24    9.04  \n",
       "2  comedy,drama,psychological,romance,supernatura...               25    9.04  \n",
       "3  comedy,drama,romance,supernatural,amnesia,body...                1    9.02  \n",
       "4  action,drama,romance,historical,revenge,samura...                4    8.97  "
      ]
     },
     "execution_count": 4,
     "metadata": {},
     "output_type": "execute_result"
    }
   ],
   "source": [
    "df.head()"
   ]
  },
  {
   "cell_type": "markdown",
   "metadata": {},
   "source": [
    "### - Since the dataset contains **tv shows** as well as **movies**, we can use ```categorical encoding``` for the same. \n",
    "### - For this I made a new column **TV Shows** that is 1 for the rows having tv shows and 0 for movies. \n",
    "###   **How will this help?** \n",
    "### - Adding the new column will help us analyse the ratings of every anime accurately as it may depend on whether it's a tv show or a movie. "
   ]
  },
  {
   "cell_type": "code",
   "execution_count": 5,
   "metadata": {},
   "outputs": [
    {
     "data": {
      "text/html": [
       "<div>\n",
       "<style scoped>\n",
       "    .dataframe tbody tr th:only-of-type {\n",
       "        vertical-align: middle;\n",
       "    }\n",
       "\n",
       "    .dataframe tbody tr th {\n",
       "        vertical-align: top;\n",
       "    }\n",
       "\n",
       "    .dataframe thead th {\n",
       "        text-align: right;\n",
       "    }\n",
       "</style>\n",
       "<table border=\"1\" class=\"dataframe\">\n",
       "  <thead>\n",
       "    <tr style=\"text-align: right;\">\n",
       "      <th></th>\n",
       "      <th>Serial No.</th>\n",
       "      <th>Name</th>\n",
       "      <th>Links</th>\n",
       "      <th>Genre and Theme</th>\n",
       "      <th>No. of episodes</th>\n",
       "      <th>Rating</th>\n",
       "      <th>TV show</th>\n",
       "    </tr>\n",
       "  </thead>\n",
       "  <tbody>\n",
       "    <tr>\n",
       "      <th>0</th>\n",
       "      <td>1</td>\n",
       "      <td>Fullmetal Alchemist: Brotherhood (TV)</td>\n",
       "      <td>https://www.animenewsnetwork.com//encyclopedia...</td>\n",
       "      <td>adventure,comedy,drama,fantasy,thriller,alchem...</td>\n",
       "      <td>64</td>\n",
       "      <td>9.09</td>\n",
       "      <td>1</td>\n",
       "    </tr>\n",
       "    <tr>\n",
       "      <th>1</th>\n",
       "      <td>2</td>\n",
       "      <td>Steins;Gate (TV)</td>\n",
       "      <td>https://www.animenewsnetwork.com//encyclopedia...</td>\n",
       "      <td>adventure,comedy,drama,mystery,psychological,r...</td>\n",
       "      <td>24</td>\n",
       "      <td>9.04</td>\n",
       "      <td>1</td>\n",
       "    </tr>\n",
       "    <tr>\n",
       "      <th>2</th>\n",
       "      <td>3</td>\n",
       "      <td>Clannad After Story (TV)</td>\n",
       "      <td>https://www.animenewsnetwork.com//encyclopedia...</td>\n",
       "      <td>comedy,drama,psychological,romance,supernatura...</td>\n",
       "      <td>25</td>\n",
       "      <td>9.04</td>\n",
       "      <td>1</td>\n",
       "    </tr>\n",
       "    <tr>\n",
       "      <th>3</th>\n",
       "      <td>4</td>\n",
       "      <td>your name. (movie)</td>\n",
       "      <td>https://www.animenewsnetwork.com//encyclopedia...</td>\n",
       "      <td>comedy,drama,romance,supernatural,amnesia,body...</td>\n",
       "      <td>1</td>\n",
       "      <td>9.02</td>\n",
       "      <td>0</td>\n",
       "    </tr>\n",
       "    <tr>\n",
       "      <th>4</th>\n",
       "      <td>5</td>\n",
       "      <td>Rurouni Kenshin: Trust &amp;amp; Betrayal (OAV)</td>\n",
       "      <td>https://www.animenewsnetwork.com//encyclopedia...</td>\n",
       "      <td>action,drama,romance,historical,revenge,samura...</td>\n",
       "      <td>4</td>\n",
       "      <td>8.97</td>\n",
       "      <td>1</td>\n",
       "    </tr>\n",
       "  </tbody>\n",
       "</table>\n",
       "</div>"
      ],
      "text/plain": [
       "   Serial No.                                         Name  \\\n",
       "0           1        Fullmetal Alchemist: Brotherhood (TV)   \n",
       "1           2                             Steins;Gate (TV)   \n",
       "2           3                     Clannad After Story (TV)   \n",
       "3           4                           your name. (movie)   \n",
       "4           5  Rurouni Kenshin: Trust &amp; Betrayal (OAV)   \n",
       "\n",
       "                                               Links  \\\n",
       "0  https://www.animenewsnetwork.com//encyclopedia...   \n",
       "1  https://www.animenewsnetwork.com//encyclopedia...   \n",
       "2  https://www.animenewsnetwork.com//encyclopedia...   \n",
       "3  https://www.animenewsnetwork.com//encyclopedia...   \n",
       "4  https://www.animenewsnetwork.com//encyclopedia...   \n",
       "\n",
       "                                     Genre and Theme  No. of episodes  Rating  \\\n",
       "0  adventure,comedy,drama,fantasy,thriller,alchem...               64    9.09   \n",
       "1  adventure,comedy,drama,mystery,psychological,r...               24    9.04   \n",
       "2  comedy,drama,psychological,romance,supernatura...               25    9.04   \n",
       "3  comedy,drama,romance,supernatural,amnesia,body...                1    9.02   \n",
       "4  action,drama,romance,historical,revenge,samura...                4    8.97   \n",
       "\n",
       "   TV show  \n",
       "0        1  \n",
       "1        1  \n",
       "2        1  \n",
       "3        0  \n",
       "4        1  "
      ]
     },
     "execution_count": 5,
     "metadata": {},
     "output_type": "execute_result"
    }
   ],
   "source": [
    "\n",
    "df[\"TV show\"] = np.where(df[\"No. of episodes\"]==1, 0, 1)\n",
    "df.head()"
   ]
  },
  {
   "cell_type": "markdown",
   "metadata": {},
   "source": [
    "### - Now I've used ```categorical encoding``` on the Top 9 genres\n",
    "### - For that, I've extracted the Top 9 genres from the **'Genre and Theme'** column"
   ]
  },
  {
   "cell_type": "code",
   "execution_count": 6,
   "metadata": {},
   "outputs": [
    {
     "data": {
      "text/plain": [
       "drama              28\n",
       "adventure          23\n",
       "action             22\n",
       "comedy             19\n",
       "slice of life       4\n",
       "horror              1\n",
       "mystery             1\n",
       "science fiction     1\n",
       "boxing              1\n",
       "Name: test, dtype: int64"
      ]
     },
     "execution_count": 6,
     "metadata": {},
     "output_type": "execute_result"
    }
   ],
   "source": [
    "df['test'] = df['Genre and Theme'].str.split(',').str[0]\n",
    "df['test'].value_counts()\n"
   ]
  },
  {
   "cell_type": "code",
   "execution_count": 7,
   "metadata": {},
   "outputs": [],
   "source": [
    "df['test1'] = df['Genre and Theme'].str.split(',').str[1]\n",
    "df['test2'] = df['Genre and Theme'].str.split(',').str[2]\n",
    "df['test3'] = df['Genre and Theme'].str.split(',').str[3]"
   ]
  },
  {
   "cell_type": "code",
   "execution_count": 8,
   "metadata": {},
   "outputs": [],
   "source": [
    "top=list(df['test'].unique()[:3])\n",
    "top+=list(df['test1'].unique()[:3])\n",
    "top+=list(df['test2'].unique()[:3])\n",
    "top+=list(df['test3'].unique()[:3])"
   ]
  },
  {
   "cell_type": "markdown",
   "metadata": {},
   "source": [
    "### - Here are the Top 9 genres"
   ]
  },
  {
   "cell_type": "code",
   "execution_count": 9,
   "metadata": {},
   "outputs": [
    {
     "data": {
      "text/plain": [
       "['drama',\n",
       " 'magic',\n",
       " 'mystery',\n",
       " 'romance',\n",
       " 'fantasy',\n",
       " 'adventure',\n",
       " 'comedy',\n",
       " 'action',\n",
       " 'psychological']"
      ]
     },
     "execution_count": 9,
     "metadata": {},
     "output_type": "execute_result"
    }
   ],
   "source": [
    "top=list(set(top))\n",
    "top"
   ]
  },
  {
   "cell_type": "code",
   "execution_count": 10,
   "metadata": {},
   "outputs": [],
   "source": [
    "for i in top: \n",
    "    df['Genre: '+i] = np.where(df[\"Genre and Theme\"].str.contains(i), 1, 0)"
   ]
  },
  {
   "cell_type": "code",
   "execution_count": 11,
   "metadata": {},
   "outputs": [
    {
     "data": {
      "text/plain": [
       "Index(['Serial No.', 'Name', 'Links', 'Genre and Theme', 'No. of episodes',\n",
       "       'Rating', 'TV show', 'test', 'test1', 'test2', 'test3', 'Genre: drama',\n",
       "       'Genre: magic', 'Genre: mystery', 'Genre: romance', 'Genre: fantasy',\n",
       "       'Genre: adventure', 'Genre: comedy', 'Genre: action',\n",
       "       'Genre: psychological'],\n",
       "      dtype='object')"
      ]
     },
     "execution_count": 11,
     "metadata": {},
     "output_type": "execute_result"
    }
   ],
   "source": [
    "df.columns"
   ]
  },
  {
   "cell_type": "code",
   "execution_count": 12,
   "metadata": {},
   "outputs": [
    {
     "data": {
      "text/html": [
       "<div>\n",
       "<style scoped>\n",
       "    .dataframe tbody tr th:only-of-type {\n",
       "        vertical-align: middle;\n",
       "    }\n",
       "\n",
       "    .dataframe tbody tr th {\n",
       "        vertical-align: top;\n",
       "    }\n",
       "\n",
       "    .dataframe thead th {\n",
       "        text-align: right;\n",
       "    }\n",
       "</style>\n",
       "<table border=\"1\" class=\"dataframe\">\n",
       "  <thead>\n",
       "    <tr style=\"text-align: right;\">\n",
       "      <th></th>\n",
       "      <th>Serial No.</th>\n",
       "      <th>Name</th>\n",
       "      <th>Links</th>\n",
       "      <th>Genre and Theme</th>\n",
       "      <th>No. of episodes</th>\n",
       "      <th>Rating</th>\n",
       "      <th>TV show</th>\n",
       "      <th>test</th>\n",
       "      <th>test1</th>\n",
       "      <th>test2</th>\n",
       "      <th>test3</th>\n",
       "      <th>Genre: drama</th>\n",
       "      <th>Genre: magic</th>\n",
       "      <th>Genre: mystery</th>\n",
       "      <th>Genre: romance</th>\n",
       "      <th>Genre: fantasy</th>\n",
       "      <th>Genre: adventure</th>\n",
       "      <th>Genre: comedy</th>\n",
       "      <th>Genre: action</th>\n",
       "      <th>Genre: psychological</th>\n",
       "    </tr>\n",
       "  </thead>\n",
       "  <tbody>\n",
       "    <tr>\n",
       "      <th>0</th>\n",
       "      <td>1</td>\n",
       "      <td>Fullmetal Alchemist: Brotherhood (TV)</td>\n",
       "      <td>https://www.animenewsnetwork.com//encyclopedia...</td>\n",
       "      <td>adventure,comedy,drama,fantasy,thriller,alchem...</td>\n",
       "      <td>64</td>\n",
       "      <td>9.09</td>\n",
       "      <td>1</td>\n",
       "      <td>adventure</td>\n",
       "      <td>comedy</td>\n",
       "      <td>drama</td>\n",
       "      <td>fantasy</td>\n",
       "      <td>1</td>\n",
       "      <td>0</td>\n",
       "      <td>0</td>\n",
       "      <td>0</td>\n",
       "      <td>1</td>\n",
       "      <td>1</td>\n",
       "      <td>1</td>\n",
       "      <td>0</td>\n",
       "      <td>0</td>\n",
       "    </tr>\n",
       "    <tr>\n",
       "      <th>1</th>\n",
       "      <td>2</td>\n",
       "      <td>Steins;Gate (TV)</td>\n",
       "      <td>https://www.animenewsnetwork.com//encyclopedia...</td>\n",
       "      <td>adventure,comedy,drama,mystery,psychological,r...</td>\n",
       "      <td>24</td>\n",
       "      <td>9.04</td>\n",
       "      <td>1</td>\n",
       "      <td>adventure</td>\n",
       "      <td>comedy</td>\n",
       "      <td>drama</td>\n",
       "      <td>mystery</td>\n",
       "      <td>1</td>\n",
       "      <td>0</td>\n",
       "      <td>1</td>\n",
       "      <td>1</td>\n",
       "      <td>0</td>\n",
       "      <td>1</td>\n",
       "      <td>1</td>\n",
       "      <td>0</td>\n",
       "      <td>1</td>\n",
       "    </tr>\n",
       "    <tr>\n",
       "      <th>2</th>\n",
       "      <td>3</td>\n",
       "      <td>Clannad After Story (TV)</td>\n",
       "      <td>https://www.animenewsnetwork.com//encyclopedia...</td>\n",
       "      <td>comedy,drama,psychological,romance,supernatura...</td>\n",
       "      <td>25</td>\n",
       "      <td>9.04</td>\n",
       "      <td>1</td>\n",
       "      <td>comedy</td>\n",
       "      <td>drama</td>\n",
       "      <td>psychological</td>\n",
       "      <td>romance</td>\n",
       "      <td>1</td>\n",
       "      <td>0</td>\n",
       "      <td>0</td>\n",
       "      <td>1</td>\n",
       "      <td>0</td>\n",
       "      <td>0</td>\n",
       "      <td>1</td>\n",
       "      <td>0</td>\n",
       "      <td>1</td>\n",
       "    </tr>\n",
       "    <tr>\n",
       "      <th>3</th>\n",
       "      <td>4</td>\n",
       "      <td>your name. (movie)</td>\n",
       "      <td>https://www.animenewsnetwork.com//encyclopedia...</td>\n",
       "      <td>comedy,drama,romance,supernatural,amnesia,body...</td>\n",
       "      <td>1</td>\n",
       "      <td>9.02</td>\n",
       "      <td>0</td>\n",
       "      <td>comedy</td>\n",
       "      <td>drama</td>\n",
       "      <td>romance</td>\n",
       "      <td>supernatural</td>\n",
       "      <td>1</td>\n",
       "      <td>0</td>\n",
       "      <td>0</td>\n",
       "      <td>1</td>\n",
       "      <td>0</td>\n",
       "      <td>0</td>\n",
       "      <td>1</td>\n",
       "      <td>0</td>\n",
       "      <td>0</td>\n",
       "    </tr>\n",
       "    <tr>\n",
       "      <th>4</th>\n",
       "      <td>5</td>\n",
       "      <td>Rurouni Kenshin: Trust &amp;amp; Betrayal (OAV)</td>\n",
       "      <td>https://www.animenewsnetwork.com//encyclopedia...</td>\n",
       "      <td>action,drama,romance,historical,revenge,samura...</td>\n",
       "      <td>4</td>\n",
       "      <td>8.97</td>\n",
       "      <td>1</td>\n",
       "      <td>action</td>\n",
       "      <td>drama</td>\n",
       "      <td>romance</td>\n",
       "      <td>historical</td>\n",
       "      <td>1</td>\n",
       "      <td>0</td>\n",
       "      <td>0</td>\n",
       "      <td>1</td>\n",
       "      <td>0</td>\n",
       "      <td>0</td>\n",
       "      <td>0</td>\n",
       "      <td>1</td>\n",
       "      <td>0</td>\n",
       "    </tr>\n",
       "  </tbody>\n",
       "</table>\n",
       "</div>"
      ],
      "text/plain": [
       "   Serial No.                                         Name  \\\n",
       "0           1        Fullmetal Alchemist: Brotherhood (TV)   \n",
       "1           2                             Steins;Gate (TV)   \n",
       "2           3                     Clannad After Story (TV)   \n",
       "3           4                           your name. (movie)   \n",
       "4           5  Rurouni Kenshin: Trust &amp; Betrayal (OAV)   \n",
       "\n",
       "                                               Links  \\\n",
       "0  https://www.animenewsnetwork.com//encyclopedia...   \n",
       "1  https://www.animenewsnetwork.com//encyclopedia...   \n",
       "2  https://www.animenewsnetwork.com//encyclopedia...   \n",
       "3  https://www.animenewsnetwork.com//encyclopedia...   \n",
       "4  https://www.animenewsnetwork.com//encyclopedia...   \n",
       "\n",
       "                                     Genre and Theme  No. of episodes  Rating  \\\n",
       "0  adventure,comedy,drama,fantasy,thriller,alchem...               64    9.09   \n",
       "1  adventure,comedy,drama,mystery,psychological,r...               24    9.04   \n",
       "2  comedy,drama,psychological,romance,supernatura...               25    9.04   \n",
       "3  comedy,drama,romance,supernatural,amnesia,body...                1    9.02   \n",
       "4  action,drama,romance,historical,revenge,samura...                4    8.97   \n",
       "\n",
       "   TV show       test   test1          test2         test3  Genre: drama  \\\n",
       "0        1  adventure  comedy          drama       fantasy             1   \n",
       "1        1  adventure  comedy          drama       mystery             1   \n",
       "2        1     comedy   drama  psychological       romance             1   \n",
       "3        0     comedy   drama        romance  supernatural             1   \n",
       "4        1     action   drama        romance    historical             1   \n",
       "\n",
       "   Genre: magic  Genre: mystery  Genre: romance  Genre: fantasy  \\\n",
       "0             0               0               0               1   \n",
       "1             0               1               1               0   \n",
       "2             0               0               1               0   \n",
       "3             0               0               1               0   \n",
       "4             0               0               1               0   \n",
       "\n",
       "   Genre: adventure  Genre: comedy  Genre: action  Genre: psychological  \n",
       "0                 1              1              0                     0  \n",
       "1                 1              1              0                     1  \n",
       "2                 0              1              0                     1  \n",
       "3                 0              1              0                     0  \n",
       "4                 0              0              1                     0  "
      ]
     },
     "execution_count": 12,
     "metadata": {},
     "output_type": "execute_result"
    }
   ],
   "source": [
    "df.head()"
   ]
  },
  {
   "cell_type": "code",
   "execution_count": 13,
   "metadata": {},
   "outputs": [],
   "source": [
    "df=df.drop(['test','test1','test2','test3'],axis=1)"
   ]
  },
  {
   "cell_type": "code",
   "execution_count": 14,
   "metadata": {},
   "outputs": [
    {
     "data": {
      "text/html": [
       "<div>\n",
       "<style scoped>\n",
       "    .dataframe tbody tr th:only-of-type {\n",
       "        vertical-align: middle;\n",
       "    }\n",
       "\n",
       "    .dataframe tbody tr th {\n",
       "        vertical-align: top;\n",
       "    }\n",
       "\n",
       "    .dataframe thead th {\n",
       "        text-align: right;\n",
       "    }\n",
       "</style>\n",
       "<table border=\"1\" class=\"dataframe\">\n",
       "  <thead>\n",
       "    <tr style=\"text-align: right;\">\n",
       "      <th></th>\n",
       "      <th>Serial No.</th>\n",
       "      <th>Name</th>\n",
       "      <th>Links</th>\n",
       "      <th>Genre and Theme</th>\n",
       "      <th>No. of episodes</th>\n",
       "      <th>Rating</th>\n",
       "      <th>TV show</th>\n",
       "      <th>Genre: drama</th>\n",
       "      <th>Genre: magic</th>\n",
       "      <th>Genre: mystery</th>\n",
       "      <th>Genre: romance</th>\n",
       "      <th>Genre: fantasy</th>\n",
       "      <th>Genre: adventure</th>\n",
       "      <th>Genre: comedy</th>\n",
       "      <th>Genre: action</th>\n",
       "      <th>Genre: psychological</th>\n",
       "    </tr>\n",
       "  </thead>\n",
       "  <tbody>\n",
       "    <tr>\n",
       "      <th>0</th>\n",
       "      <td>1</td>\n",
       "      <td>Fullmetal Alchemist: Brotherhood (TV)</td>\n",
       "      <td>https://www.animenewsnetwork.com//encyclopedia...</td>\n",
       "      <td>adventure,comedy,drama,fantasy,thriller,alchem...</td>\n",
       "      <td>64</td>\n",
       "      <td>9.09</td>\n",
       "      <td>1</td>\n",
       "      <td>1</td>\n",
       "      <td>0</td>\n",
       "      <td>0</td>\n",
       "      <td>0</td>\n",
       "      <td>1</td>\n",
       "      <td>1</td>\n",
       "      <td>1</td>\n",
       "      <td>0</td>\n",
       "      <td>0</td>\n",
       "    </tr>\n",
       "    <tr>\n",
       "      <th>1</th>\n",
       "      <td>2</td>\n",
       "      <td>Steins;Gate (TV)</td>\n",
       "      <td>https://www.animenewsnetwork.com//encyclopedia...</td>\n",
       "      <td>adventure,comedy,drama,mystery,psychological,r...</td>\n",
       "      <td>24</td>\n",
       "      <td>9.04</td>\n",
       "      <td>1</td>\n",
       "      <td>1</td>\n",
       "      <td>0</td>\n",
       "      <td>1</td>\n",
       "      <td>1</td>\n",
       "      <td>0</td>\n",
       "      <td>1</td>\n",
       "      <td>1</td>\n",
       "      <td>0</td>\n",
       "      <td>1</td>\n",
       "    </tr>\n",
       "    <tr>\n",
       "      <th>2</th>\n",
       "      <td>3</td>\n",
       "      <td>Clannad After Story (TV)</td>\n",
       "      <td>https://www.animenewsnetwork.com//encyclopedia...</td>\n",
       "      <td>comedy,drama,psychological,romance,supernatura...</td>\n",
       "      <td>25</td>\n",
       "      <td>9.04</td>\n",
       "      <td>1</td>\n",
       "      <td>1</td>\n",
       "      <td>0</td>\n",
       "      <td>0</td>\n",
       "      <td>1</td>\n",
       "      <td>0</td>\n",
       "      <td>0</td>\n",
       "      <td>1</td>\n",
       "      <td>0</td>\n",
       "      <td>1</td>\n",
       "    </tr>\n",
       "    <tr>\n",
       "      <th>3</th>\n",
       "      <td>4</td>\n",
       "      <td>your name. (movie)</td>\n",
       "      <td>https://www.animenewsnetwork.com//encyclopedia...</td>\n",
       "      <td>comedy,drama,romance,supernatural,amnesia,body...</td>\n",
       "      <td>1</td>\n",
       "      <td>9.02</td>\n",
       "      <td>0</td>\n",
       "      <td>1</td>\n",
       "      <td>0</td>\n",
       "      <td>0</td>\n",
       "      <td>1</td>\n",
       "      <td>0</td>\n",
       "      <td>0</td>\n",
       "      <td>1</td>\n",
       "      <td>0</td>\n",
       "      <td>0</td>\n",
       "    </tr>\n",
       "    <tr>\n",
       "      <th>4</th>\n",
       "      <td>5</td>\n",
       "      <td>Rurouni Kenshin: Trust &amp;amp; Betrayal (OAV)</td>\n",
       "      <td>https://www.animenewsnetwork.com//encyclopedia...</td>\n",
       "      <td>action,drama,romance,historical,revenge,samura...</td>\n",
       "      <td>4</td>\n",
       "      <td>8.97</td>\n",
       "      <td>1</td>\n",
       "      <td>1</td>\n",
       "      <td>0</td>\n",
       "      <td>0</td>\n",
       "      <td>1</td>\n",
       "      <td>0</td>\n",
       "      <td>0</td>\n",
       "      <td>0</td>\n",
       "      <td>1</td>\n",
       "      <td>0</td>\n",
       "    </tr>\n",
       "  </tbody>\n",
       "</table>\n",
       "</div>"
      ],
      "text/plain": [
       "   Serial No.                                         Name  \\\n",
       "0           1        Fullmetal Alchemist: Brotherhood (TV)   \n",
       "1           2                             Steins;Gate (TV)   \n",
       "2           3                     Clannad After Story (TV)   \n",
       "3           4                           your name. (movie)   \n",
       "4           5  Rurouni Kenshin: Trust &amp; Betrayal (OAV)   \n",
       "\n",
       "                                               Links  \\\n",
       "0  https://www.animenewsnetwork.com//encyclopedia...   \n",
       "1  https://www.animenewsnetwork.com//encyclopedia...   \n",
       "2  https://www.animenewsnetwork.com//encyclopedia...   \n",
       "3  https://www.animenewsnetwork.com//encyclopedia...   \n",
       "4  https://www.animenewsnetwork.com//encyclopedia...   \n",
       "\n",
       "                                     Genre and Theme  No. of episodes  Rating  \\\n",
       "0  adventure,comedy,drama,fantasy,thriller,alchem...               64    9.09   \n",
       "1  adventure,comedy,drama,mystery,psychological,r...               24    9.04   \n",
       "2  comedy,drama,psychological,romance,supernatura...               25    9.04   \n",
       "3  comedy,drama,romance,supernatural,amnesia,body...                1    9.02   \n",
       "4  action,drama,romance,historical,revenge,samura...                4    8.97   \n",
       "\n",
       "   TV show  Genre: drama  Genre: magic  Genre: mystery  Genre: romance  \\\n",
       "0        1             1             0               0               0   \n",
       "1        1             1             0               1               1   \n",
       "2        1             1             0               0               1   \n",
       "3        0             1             0               0               1   \n",
       "4        1             1             0               0               1   \n",
       "\n",
       "   Genre: fantasy  Genre: adventure  Genre: comedy  Genre: action  \\\n",
       "0               1                 1              1              0   \n",
       "1               0                 1              1              0   \n",
       "2               0                 0              1              0   \n",
       "3               0                 0              1              0   \n",
       "4               0                 0              0              1   \n",
       "\n",
       "   Genre: psychological  \n",
       "0                     0  \n",
       "1                     1  \n",
       "2                     1  \n",
       "3                     0  \n",
       "4                     0  "
      ]
     },
     "execution_count": 14,
     "metadata": {},
     "output_type": "execute_result"
    }
   ],
   "source": [
    "df.head()"
   ]
  },
  {
   "cell_type": "code",
   "execution_count": 15,
   "metadata": {},
   "outputs": [],
   "source": [
    "df=df[['Serial No.', 'Name', 'Links', 'Genre and Theme', 'No. of episodes','TV show','Genre: magic',\n",
    "       'Genre: adventure', 'Genre: psychological', 'Genre: comedy',\n",
    "       'Genre: drama', 'Genre: romance', 'Genre: mystery', 'Genre: action',\n",
    "       'Genre: fantasy','Rating']]"
   ]
  },
  {
   "cell_type": "markdown",
   "metadata": {},
   "source": [
    "### This is our final dataset"
   ]
  },
  {
   "cell_type": "code",
   "execution_count": 16,
   "metadata": {},
   "outputs": [
    {
     "data": {
      "text/html": [
       "<div>\n",
       "<style scoped>\n",
       "    .dataframe tbody tr th:only-of-type {\n",
       "        vertical-align: middle;\n",
       "    }\n",
       "\n",
       "    .dataframe tbody tr th {\n",
       "        vertical-align: top;\n",
       "    }\n",
       "\n",
       "    .dataframe thead th {\n",
       "        text-align: right;\n",
       "    }\n",
       "</style>\n",
       "<table border=\"1\" class=\"dataframe\">\n",
       "  <thead>\n",
       "    <tr style=\"text-align: right;\">\n",
       "      <th></th>\n",
       "      <th>Serial No.</th>\n",
       "      <th>Name</th>\n",
       "      <th>Links</th>\n",
       "      <th>Genre and Theme</th>\n",
       "      <th>No. of episodes</th>\n",
       "      <th>TV show</th>\n",
       "      <th>Genre: magic</th>\n",
       "      <th>Genre: adventure</th>\n",
       "      <th>Genre: psychological</th>\n",
       "      <th>Genre: comedy</th>\n",
       "      <th>Genre: drama</th>\n",
       "      <th>Genre: romance</th>\n",
       "      <th>Genre: mystery</th>\n",
       "      <th>Genre: action</th>\n",
       "      <th>Genre: fantasy</th>\n",
       "      <th>Rating</th>\n",
       "    </tr>\n",
       "  </thead>\n",
       "  <tbody>\n",
       "    <tr>\n",
       "      <th>0</th>\n",
       "      <td>1</td>\n",
       "      <td>Fullmetal Alchemist: Brotherhood (TV)</td>\n",
       "      <td>https://www.animenewsnetwork.com//encyclopedia...</td>\n",
       "      <td>adventure,comedy,drama,fantasy,thriller,alchem...</td>\n",
       "      <td>64</td>\n",
       "      <td>1</td>\n",
       "      <td>0</td>\n",
       "      <td>1</td>\n",
       "      <td>0</td>\n",
       "      <td>1</td>\n",
       "      <td>1</td>\n",
       "      <td>0</td>\n",
       "      <td>0</td>\n",
       "      <td>0</td>\n",
       "      <td>1</td>\n",
       "      <td>9.09</td>\n",
       "    </tr>\n",
       "    <tr>\n",
       "      <th>1</th>\n",
       "      <td>2</td>\n",
       "      <td>Steins;Gate (TV)</td>\n",
       "      <td>https://www.animenewsnetwork.com//encyclopedia...</td>\n",
       "      <td>adventure,comedy,drama,mystery,psychological,r...</td>\n",
       "      <td>24</td>\n",
       "      <td>1</td>\n",
       "      <td>0</td>\n",
       "      <td>1</td>\n",
       "      <td>1</td>\n",
       "      <td>1</td>\n",
       "      <td>1</td>\n",
       "      <td>1</td>\n",
       "      <td>1</td>\n",
       "      <td>0</td>\n",
       "      <td>0</td>\n",
       "      <td>9.04</td>\n",
       "    </tr>\n",
       "    <tr>\n",
       "      <th>2</th>\n",
       "      <td>3</td>\n",
       "      <td>Clannad After Story (TV)</td>\n",
       "      <td>https://www.animenewsnetwork.com//encyclopedia...</td>\n",
       "      <td>comedy,drama,psychological,romance,supernatura...</td>\n",
       "      <td>25</td>\n",
       "      <td>1</td>\n",
       "      <td>0</td>\n",
       "      <td>0</td>\n",
       "      <td>1</td>\n",
       "      <td>1</td>\n",
       "      <td>1</td>\n",
       "      <td>1</td>\n",
       "      <td>0</td>\n",
       "      <td>0</td>\n",
       "      <td>0</td>\n",
       "      <td>9.04</td>\n",
       "    </tr>\n",
       "    <tr>\n",
       "      <th>3</th>\n",
       "      <td>4</td>\n",
       "      <td>your name. (movie)</td>\n",
       "      <td>https://www.animenewsnetwork.com//encyclopedia...</td>\n",
       "      <td>comedy,drama,romance,supernatural,amnesia,body...</td>\n",
       "      <td>1</td>\n",
       "      <td>0</td>\n",
       "      <td>0</td>\n",
       "      <td>0</td>\n",
       "      <td>0</td>\n",
       "      <td>1</td>\n",
       "      <td>1</td>\n",
       "      <td>1</td>\n",
       "      <td>0</td>\n",
       "      <td>0</td>\n",
       "      <td>0</td>\n",
       "      <td>9.02</td>\n",
       "    </tr>\n",
       "    <tr>\n",
       "      <th>4</th>\n",
       "      <td>5</td>\n",
       "      <td>Rurouni Kenshin: Trust &amp;amp; Betrayal (OAV)</td>\n",
       "      <td>https://www.animenewsnetwork.com//encyclopedia...</td>\n",
       "      <td>action,drama,romance,historical,revenge,samura...</td>\n",
       "      <td>4</td>\n",
       "      <td>1</td>\n",
       "      <td>0</td>\n",
       "      <td>0</td>\n",
       "      <td>0</td>\n",
       "      <td>0</td>\n",
       "      <td>1</td>\n",
       "      <td>1</td>\n",
       "      <td>0</td>\n",
       "      <td>1</td>\n",
       "      <td>0</td>\n",
       "      <td>8.97</td>\n",
       "    </tr>\n",
       "  </tbody>\n",
       "</table>\n",
       "</div>"
      ],
      "text/plain": [
       "   Serial No.                                         Name  \\\n",
       "0           1        Fullmetal Alchemist: Brotherhood (TV)   \n",
       "1           2                             Steins;Gate (TV)   \n",
       "2           3                     Clannad After Story (TV)   \n",
       "3           4                           your name. (movie)   \n",
       "4           5  Rurouni Kenshin: Trust &amp; Betrayal (OAV)   \n",
       "\n",
       "                                               Links  \\\n",
       "0  https://www.animenewsnetwork.com//encyclopedia...   \n",
       "1  https://www.animenewsnetwork.com//encyclopedia...   \n",
       "2  https://www.animenewsnetwork.com//encyclopedia...   \n",
       "3  https://www.animenewsnetwork.com//encyclopedia...   \n",
       "4  https://www.animenewsnetwork.com//encyclopedia...   \n",
       "\n",
       "                                     Genre and Theme  No. of episodes  \\\n",
       "0  adventure,comedy,drama,fantasy,thriller,alchem...               64   \n",
       "1  adventure,comedy,drama,mystery,psychological,r...               24   \n",
       "2  comedy,drama,psychological,romance,supernatura...               25   \n",
       "3  comedy,drama,romance,supernatural,amnesia,body...                1   \n",
       "4  action,drama,romance,historical,revenge,samura...                4   \n",
       "\n",
       "   TV show  Genre: magic  Genre: adventure  Genre: psychological  \\\n",
       "0        1             0                 1                     0   \n",
       "1        1             0                 1                     1   \n",
       "2        1             0                 0                     1   \n",
       "3        0             0                 0                     0   \n",
       "4        1             0                 0                     0   \n",
       "\n",
       "   Genre: comedy  Genre: drama  Genre: romance  Genre: mystery  Genre: action  \\\n",
       "0              1             1               0               0              0   \n",
       "1              1             1               1               1              0   \n",
       "2              1             1               1               0              0   \n",
       "3              1             1               1               0              0   \n",
       "4              0             1               1               0              1   \n",
       "\n",
       "   Genre: fantasy  Rating  \n",
       "0               1    9.09  \n",
       "1               0    9.04  \n",
       "2               0    9.04  \n",
       "3               0    9.02  \n",
       "4               0    8.97  "
      ]
     },
     "execution_count": 16,
     "metadata": {},
     "output_type": "execute_result"
    }
   ],
   "source": [
    "df.head()"
   ]
  },
  {
   "cell_type": "markdown",
   "metadata": {},
   "source": [
    "# _Hypothesis Testing_ \n",
    "## 1. Chi Squared Test of independency\n",
    "### - Here we assume that all the genres are independent from each other. If our p value comes less than 0.05 (p<0.05) we will reject the hypothesis, showing that the genres are **not independent** from each other. "
   ]
  },
  {
   "cell_type": "code",
   "execution_count": 33,
   "metadata": {},
   "outputs": [
    {
     "name": "stdout",
     "output_type": "stream",
     "text": [
      "0.00255324054949839 Genre: magic Genre: psychological\n",
      "0.005221018534965061 Genre: adventure Genre: action\n",
      "1.5689508612406957e-05 Genre: adventure Genre: fantasy\n",
      "0.00909825458161699 Genre: psychological Genre: mystery\n",
      "0.012165112025984968 Genre: romance Genre: action\n",
      "0.00909825458161699 Genre: mystery Genre: psychological\n",
      "0.005221018534965061 Genre: action Genre: adventure\n",
      "0.012165112025984968 Genre: action Genre: romance\n",
      "1.5689508612406957e-05 Genre: fantasy Genre: adventure\n"
     ]
    }
   ],
   "source": [
    "for i in df[df.columns[6:15]]:\n",
    "  for j in df[df.columns[7:15]]:\n",
    "        cont=pd.crosstab(df[i],df[j])\n",
    "        c, p, dof, expected = chi2_contingency(cont)\n",
    "        if p<0.05 and i!=j:\n",
    "          print(p,end=\" \")\n",
    "          print(i+\" \"+j)"
   ]
  },
  {
   "cell_type": "markdown",
   "metadata": {},
   "source": [
    "### The above output shows all of the genres that are dependent on each other. It includes: \n",
    "### - Magic and Psychological \n",
    "### - Adventure and Action \n",
    "### - Adventure and Fantasy \n",
    "### - Psychological and Mystery \n",
    "### - Romance and Action \n",
    "### Hence we plot a graph for analysis"
   ]
  },
  {
   "cell_type": "code",
   "execution_count": 22,
   "metadata": {},
   "outputs": [
    {
     "data": {
      "text/plain": [
       "<AxesSubplot:xlabel='Genre: action', ylabel='Genre: adventure'>"
      ]
     },
     "execution_count": 22,
     "metadata": {},
     "output_type": "execute_result"
    },
    {
     "data": {
      "image/png": "[encoded data removed]",
      "text/plain": [
       "<Figure size 864x576 with 2 Axes>"
      ]
     },
     "metadata": {
      "needs_background": "light"
     },
     "output_type": "display_data"
    }
   ],
   "source": [
    "cont=pd.crosstab(df['Genre: adventure'],df['Genre: action'])\n",
    "c, p, dof, expected = chi2_contingency(cont)\n",
    "plt.figure(figsize=(12,8))\n",
    "sns.heatmap(cont, annot=True, cmap=\"YlGnBu\")"
   ]
  },
  {
   "cell_type": "code",
   "execution_count": 23,
   "metadata": {},
   "outputs": [
    {
     "data": {
      "text/plain": [
       "<AxesSubplot:xlabel='Genre: action', ylabel='Genre: romance'>"
      ]
     },
     "execution_count": 23,
     "metadata": {},
     "output_type": "execute_result"
    },
    {
     "data": {
      "image/png": "[encoded data removed]",
      "text/plain": [
       "<Figure size 864x576 with 2 Axes>"
      ]
     },
     "metadata": {
      "needs_background": "light"
     },
     "output_type": "display_data"
    }
   ],
   "source": [
    "cont=pd.crosstab(df['Genre: romance'],df['Genre: action'])\n",
    "c, p, dof, expected = chi2_contingency(cont)\n",
    "plt.figure(figsize=(12,8))\n",
    "sns.heatmap(cont, annot=True, cmap=\"YlGnBu\")"
   ]
  },
  {
   "cell_type": "code",
   "execution_count": 24,
   "metadata": {},
   "outputs": [
    {
     "data": {
      "text/plain": [
       "<AxesSubplot:xlabel='Genre: mystery', ylabel='Genre: psychological'>"
      ]
     },
     "execution_count": 24,
     "metadata": {},
     "output_type": "execute_result"
    },
    {
     "data": {
      "image/png": "[encoded data removed]",
      "text/plain": [
       "<Figure size 864x576 with 2 Axes>"
      ]
     },
     "metadata": {
      "needs_background": "light"
     },
     "output_type": "display_data"
    }
   ],
   "source": [
    "cont=pd.crosstab(df['Genre: psychological'],df['Genre: mystery'])\n",
    "c, p, dof, expected = chi2_contingency(cont)\n",
    "plt.figure(figsize=(12,8))\n",
    "sns.heatmap(cont, annot=True, cmap=\"YlGnBu\")"
   ]
  },
  {
   "cell_type": "code",
   "execution_count": 25,
   "metadata": {},
   "outputs": [
    {
     "data": {
      "text/plain": [
       "<AxesSubplot:xlabel='Genre: magic', ylabel='Genre: psychological'>"
      ]
     },
     "execution_count": 25,
     "metadata": {},
     "output_type": "execute_result"
    },
    {
     "data": {
      "image/png": "[encoded data removed]",
      "text/plain": [
       "<Figure size 864x576 with 2 Axes>"
      ]
     },
     "metadata": {
      "needs_background": "light"
     },
     "output_type": "display_data"
    }
   ],
   "source": [
    "cont=pd.crosstab(df['Genre: psychological'],df['Genre: magic'])\n",
    "c, p, dof, expected = chi2_contingency(cont)\n",
    "plt.figure(figsize=(12,8))\n",
    "sns.heatmap(cont, annot=True, cmap=\"YlGnBu\")"
   ]
  },
  {
   "cell_type": "code",
   "execution_count": 26,
   "metadata": {},
   "outputs": [
    {
     "data": {
      "text/plain": [
       "<AxesSubplot:xlabel='Genre: fantasy', ylabel='Genre: adventure'>"
      ]
     },
     "execution_count": 26,
     "metadata": {},
     "output_type": "execute_result"
    },
    {
     "data": {
      "image/png": "[encoded data removed]",
      "text/plain": [
       "<Figure size 864x576 with 2 Axes>"
      ]
     },
     "metadata": {
      "needs_background": "light"
     },
     "output_type": "display_data"
    }
   ],
   "source": [
    "cont=pd.crosstab(df['Genre: adventure'],df['Genre: fantasy'])\n",
    "c, p, dof, expected = chi2_contingency(cont)\n",
    "plt.figure(figsize=(12,8))\n",
    "sns.heatmap(cont, annot=True, cmap=\"YlGnBu\")"
   ]
  },
  {
   "cell_type": "markdown",
   "metadata": {},
   "source": [
    "### Here, we get a very apparent conclusion: \n",
    "### - For all of the above graphs the majority of the anime lies the **dark blue** section. \n",
    "###   This shows that the absence of these genres together give a high probability of the anime coming under **Top 100**"
   ]
  },
  {
   "cell_type": "code",
   "execution_count": 35,
   "metadata": {},
   "outputs": [
    {
     "name": "stdout",
     "output_type": "stream",
     "text": [
      "Genre: psychological P-Value:  0.015122949454533517\n"
     ]
    }
   ],
   "source": [
    "from scipy.stats import f_oneway\n",
    "for i in df[df.columns[6:15]]:\n",
    "    CategoryGroupLists=df.groupby(i)['Rating'].apply(list)\n",
    "    AnovaResults = f_oneway(*CategoryGroupLists)\n",
    "    if(AnovaResults[1]<0.05):\n",
    "        print(i,end=\" \")\n",
    "        print('P-Value: ', AnovaResults[1])"
   ]
  },
  {
   "cell_type": "markdown",
   "metadata": {},
   "source": [
    "## 2. Anova Test (Using F-Test on One-Way Anova)\n",
    "### - Here we assume that the features **Genre** and **Rating** are independent from each other. \n",
    "### - In this above cell you can see that the p value is less than 0.05 only for the genre Psychological, which concludes that the assumption is **true** for every other genre except **Psychological**."
   ]
  },
  {
   "cell_type": "code",
   "execution_count": 37,
   "metadata": {},
   "outputs": [
    {
     "data": {
      "text/plain": [
       "0    76\n",
       "1    24\n",
       "Name: Genre: psychological, dtype: int64"
      ]
     },
     "execution_count": 37,
     "metadata": {},
     "output_type": "execute_result"
    }
   ],
   "source": [
    "df['Genre: psychological'].value_counts()"
   ]
  },
  {
   "cell_type": "markdown",
   "metadata": {},
   "source": [
    "### Since the absence of Psychological genre is more than 75% it proves that it this genre is not as much popular among the audience"
   ]
  },
  {
   "cell_type": "markdown",
   "metadata": {},
   "source": []
  },
  {
   "cell_type": "code",
   "execution_count": null,
   "metadata": {},
   "outputs": [],
   "source": []
  }
 ],
 "metadata": {
  "interpreter": {
   "hash": "e82b392536a43f6deef7179fe6ef28de3644ecf244efa87d3a01a399ba96db48"
  },
  "kernelspec": {
   "display_name": "Python 3.9.1 64-bit ('four': venv)",
   "language": "python",
   "name": "python3"
  },
  "language_info": {
   "codemirror_mode": {
    "name": "ipython",
    "version": 3
   },
   "file_extension": ".py",
   "mimetype": "text/x-python",
   "name": "python",
   "nbconvert_exporter": "python",
   "pygments_lexer": "ipython3",
   "version": "3.9.1"
  },
  "orig_nbformat": 4
 },
 "nbformat": 4,
 "nbformat_minor": 2
}
